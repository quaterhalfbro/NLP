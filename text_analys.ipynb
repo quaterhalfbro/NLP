{
 "cells": [
  {
   "cell_type": "code",
   "execution_count": 5,
   "id": "a1b47596",
   "metadata": {},
   "outputs": [],
   "source": [
    "import re\n",
    "import numpy as np\n",
    "import pandas as pd\n",
    "import matplotlib.pyplot as plt\n",
    "from nltk import wordnet, pos_tag, WordNetLemmatizer\n",
    "from nltk.corpus import stopwords\n",
    "from sklearn.feature_extraction.text import TfidfVectorizer, CountVectorizer\n",
    "from sklearn.linear_model import Ridge, LinearRegression\n",
    "from sklearn.model_selection import train_test_split, cross_val_score"
   ]
  },
  {
   "cell_type": "code",
   "execution_count": 6,
   "id": "15fc697d",
   "metadata": {},
   "outputs": [],
   "source": [
    "data = pd.read_csv('train.csv')\n",
    "data = data.fillna(\"\")"
   ]
  },
  {
   "cell_type": "code",
   "execution_count": 7,
   "id": "ad70b1f7",
   "metadata": {},
   "outputs": [
    {
     "data": {
      "text/html": [
       "<div>\n",
       "<style scoped>\n",
       "    .dataframe tbody tr th:only-of-type {\n",
       "        vertical-align: middle;\n",
       "    }\n",
       "\n",
       "    .dataframe tbody tr th {\n",
       "        vertical-align: top;\n",
       "    }\n",
       "\n",
       "    .dataframe thead th {\n",
       "        text-align: right;\n",
       "    }\n",
       "</style>\n",
       "<table border=\"1\" class=\"dataframe\">\n",
       "  <thead>\n",
       "    <tr style=\"text-align: right;\">\n",
       "      <th></th>\n",
       "      <th>Id</th>\n",
       "      <th>Hotel_name</th>\n",
       "      <th>Review_Title</th>\n",
       "      <th>Review_Text</th>\n",
       "      <th>Rating</th>\n",
       "    </tr>\n",
       "  </thead>\n",
       "  <tbody>\n",
       "    <tr>\n",
       "      <th>0</th>\n",
       "      <td>0</td>\n",
       "      <td>Park Hyatt</td>\n",
       "      <td>Refuge in Chennai</td>\n",
       "      <td>Excellent room and exercise facility. All arou...</td>\n",
       "      <td>80.0</td>\n",
       "    </tr>\n",
       "    <tr>\n",
       "      <th>1</th>\n",
       "      <td>1</td>\n",
       "      <td>Hilton Chennai</td>\n",
       "      <td>Hilton Chennai</td>\n",
       "      <td>Very comfortable and felt safe. \\r\\nStaff were...</td>\n",
       "      <td>100.0</td>\n",
       "    </tr>\n",
       "    <tr>\n",
       "      <th>2</th>\n",
       "      <td>2</td>\n",
       "      <td>The Royal Regency</td>\n",
       "      <td>No worth the rating shown in websites. Pricing...</td>\n",
       "      <td>Not worth the rating shown. Service is not goo...</td>\n",
       "      <td>71.0</td>\n",
       "    </tr>\n",
       "    <tr>\n",
       "      <th>3</th>\n",
       "      <td>3</td>\n",
       "      <td>Rivera</td>\n",
       "      <td>Good stay</td>\n",
       "      <td>First of all nice &amp; courteous staff, only one ...</td>\n",
       "      <td>86.0</td>\n",
       "    </tr>\n",
       "    <tr>\n",
       "      <th>4</th>\n",
       "      <td>4</td>\n",
       "      <td>Park Hyatt</td>\n",
       "      <td>Needs improvement</td>\n",
       "      <td>Overall ambience of the hotel is very good. In...</td>\n",
       "      <td>86.0</td>\n",
       "    </tr>\n",
       "  </tbody>\n",
       "</table>\n",
       "</div>"
      ],
      "text/plain": [
       "   Id         Hotel_name                                       Review_Title  \\\n",
       "0   0         Park Hyatt                                  Refuge in Chennai   \n",
       "1   1     Hilton Chennai                                     Hilton Chennai   \n",
       "2   2  The Royal Regency  No worth the rating shown in websites. Pricing...   \n",
       "3   3             Rivera                                          Good stay   \n",
       "4   4         Park Hyatt                                  Needs improvement   \n",
       "\n",
       "                                         Review_Text  Rating  \n",
       "0  Excellent room and exercise facility. All arou...    80.0  \n",
       "1  Very comfortable and felt safe. \\r\\nStaff were...   100.0  \n",
       "2  Not worth the rating shown. Service is not goo...    71.0  \n",
       "3  First of all nice & courteous staff, only one ...    86.0  \n",
       "4  Overall ambience of the hotel is very good. In...    86.0  "
      ]
     },
     "execution_count": 7,
     "metadata": {},
     "output_type": "execute_result"
    }
   ],
   "source": [
    "data.head()"
   ]
  },
  {
   "cell_type": "code",
   "execution_count": 8,
   "id": "8e62113e",
   "metadata": {},
   "outputs": [],
   "source": [
    "def get_wordnet_pos(treebank_tag):\n",
    "    my_switch = {\n",
    "        'J': wordnet.wordnet.ADJ,\n",
    "        'V': wordnet.wordnet.VERB,\n",
    "        'N': wordnet.wordnet.NOUN,\n",
    "        'R': wordnet.wordnet.ADV,\n",
    "    }\n",
    "    for key, item in my_switch.items():\n",
    "        if treebank_tag.startswith(key):\n",
    "            return item\n",
    "    return wordnet.wordnet.NOUN\n",
    "\n",
    "\n",
    "def my_lemmatizer(sent):\n",
    "    lemmatizer = WordNetLemmatizer()\n",
    "    tokenized_sent = sent.split()\n",
    "    pos_tagged = [(word, get_wordnet_pos(tag))\n",
    "                 for word, tag in pos_tag(tokenized_sent)]\n",
    "    return ' '.join([lemmatizer.lemmatize(word, tag)\n",
    "                    for word, tag in pos_tagged])\n",
    "\n",
    "stopwords = set(stopwords.words('english'))\n",
    "good_words = open('positive-words.txt').read().split('\\n')\n",
    "bad_words = open('negative-words.txt').read().split('\\n')\n",
    "\n",
    "def text_preprocessing(raw_text, way_of_filter):\n",
    "    raw_text = [i.lower() for i in raw_text]\n",
    "    raw_text = [''.join([j for j in i if j not in '�,.!?/\\-_+=*;:\\\"\\'']) for i in raw_text]\n",
    "    raw_text = [my_lemmatizer(i) for i in raw_text]\n",
    "    if way_of_filter == \"Только positive/negative слова\":\n",
    "        raw_text = [' '.join([j for j in i.split() if j in good_words or j in bad_words]) for i in raw_text]\n",
    "    elif way_of_filter == \"Без стоп-слов\":\n",
    "        raw_text = [' '.join([j for j in i.split() if j not in stopwords]) for i in raw_text]\n",
    "    elif way_of_filter == \"Без редких слов\":\n",
    "        words = ' '.join(raw_text).split()\n",
    "        not_rare_words = []\n",
    "        for i in set(words):\n",
    "            if words.count(i) > 1:\n",
    "                not_rare_words.append(i)\n",
    "        raw_text = [' '.join([j for j in i.split() if j in not_rare_words]) for i in raw_text]\n",
    "    return raw_text"
   ]
  },
  {
   "cell_type": "code",
   "execution_count": 9,
   "id": "16f68d42",
   "metadata": {},
   "outputs": [
    {
     "data": {
      "image/png": "[encoded data removed]",
      "text/plain": [
       "<Figure size 432x288 with 1 Axes>"
      ]
     },
     "metadata": {
      "needs_background": "light"
     },
     "output_type": "display_data"
    },
    {
     "data": {
      "image/png": "[encoded data removed]",
      "text/plain": [
       "<Figure size 432x288 with 1 Axes>"
      ]
     },
     "metadata": {
      "needs_background": "light"
     },
     "output_type": "display_data"
    },
    {
     "data": {
      "image/png": "[encoded data removed]",
      "text/plain": [
       "<Figure size 432x288 with 1 Axes>"
      ]
     },
     "metadata": {
      "needs_background": "light"
     },
     "output_type": "display_data"
    },
    {
     "data": {
      "image/png": "[encoded data removed]",
      "text/plain": [
       "<Figure size 432x288 with 1 Axes>"
      ]
     },
     "metadata": {
      "needs_background": "light"
     },
     "output_type": "display_data"
    }
   ],
   "source": [
    "for way_of_filter in [\"Только positive/negative слова\", \"Без стоп-слов\", \"Без фильтрации слов\", \"Без редких слов\"]:\n",
    "    preprocessed_data = text_preprocessing(data[\"Review_Text\"], way_of_filter)\n",
    "    idf_vectorizer = TfidfVectorizer().fit(preprocessed_data)\n",
    "    preprocessed_data = idf_vectorizer.transform(preprocessed_data).todense()\n",
    "    x_train, x_test, y_train, y_test = train_test_split(preprocessed_data, data['Rating'], test_size=0.2)\n",
    "    cross_history = []\n",
    "    history_train = []\n",
    "    history_test = []\n",
    "    alphas = []\n",
    "    for alpha in range(8, 16):\n",
    "        alphas.append(alpha / 30)\n",
    "        cross_history.append(cross_val_score(Ridge(alpha=alpha/16), preprocessed_data, data['Rating'], cv=5).mean())\n",
    "        model = Ridge(alpha=alpha/16).fit(x_train, y_train)\n",
    "        history_test.append(model.score(x_test, y_test))\n",
    "        history_train.append(model.score(x_train, y_train))\n",
    "    plt.plot(alphas, history_train, color='red', label='Train data')\n",
    "    plt.plot(alphas, history_test, color='blue', label='Test data')\n",
    "    plt.plot(alphas, cross_history, color='purple', label='Cross validation')\n",
    "    plt.title(way_of_filter)\n",
    "    plt.legend()\n",
    "    plt.ylabel(\"R2 score\")\n",
    "    plt.xlabel(\"alpha\")\n",
    "    plt.show()"
   ]
  },
  {
   "cell_type": "markdown",
   "id": "20412c32",
   "metadata": {},
   "source": [
    "# R2 score модели, анализирующей комментарии:"
   ]
  },
  {
   "cell_type": "code",
   "execution_count": 10,
   "id": "0d6084be",
   "metadata": {},
   "outputs": [
    {
     "data": {
      "text/plain": [
       "0.5506843816826913"
      ]
     },
     "execution_count": 10,
     "metadata": {},
     "output_type": "execute_result"
    }
   ],
   "source": [
    "from catboost import CatBoostRegressor\n",
    "\n",
    "model = CatBoostRegressor(l2_leaf_reg=0.5, silent=True, depth=8)\n",
    "cross_val_score(model, np.array(preprocessed_data), np.array(data['Rating']), cv=5).mean()"
   ]
  },
  {
   "cell_type": "code",
   "execution_count": 11,
   "id": "5d15b5e6",
   "metadata": {},
   "outputs": [],
   "source": [
    "title_text = text_preprocessing(data['Review_Title'], \"Без фильтрации слов\")"
   ]
  },
  {
   "cell_type": "code",
   "execution_count": 12,
   "id": "9ce73246",
   "metadata": {},
   "outputs": [],
   "source": [
    "idf_vectorizer = TfidfVectorizer().fit(title_text)\n",
    "title_x = idf_vectorizer.transform(title_text).todense()"
   ]
  },
  {
   "cell_type": "markdown",
   "id": "f9c930f8",
   "metadata": {},
   "source": [
    "# R2 score модели, анализирующей заголовки:"
   ]
  },
  {
   "cell_type": "code",
   "execution_count": 13,
   "id": "94cc5ffd",
   "metadata": {},
   "outputs": [],
   "source": [
    "model = CatBoostRegressor(l2_leaf_reg=1.5, silent=True, depth=8)"
   ]
  },
  {
   "cell_type": "code",
   "execution_count": 14,
   "id": "c60756b3",
   "metadata": {},
   "outputs": [
    {
     "data": {
      "text/plain": [
       "0.4175832143604669"
      ]
     },
     "execution_count": 14,
     "metadata": {},
     "output_type": "execute_result"
    }
   ],
   "source": [
    "cross_val_score(model, np.array(title_x), np.array(data['Rating']), cv=5).mean()"
   ]
  },
  {
   "cell_type": "code",
   "execution_count": 15,
   "id": "eb1c4454",
   "metadata": {},
   "outputs": [],
   "source": [
    "comment_text = text_preprocessing(data['Review_Text'], \"Без редких слов\")\n",
    "idf_vectorizer = TfidfVectorizer().fit(comment_text)\n",
    "comment_x = idf_vectorizer.transform(comment_text).todense()"
   ]
  },
  {
   "cell_type": "code",
   "execution_count": 16,
   "id": "5f28b2ff",
   "metadata": {},
   "outputs": [],
   "source": [
    "size = len(title_text)\n",
    "y = data['Rating'].values\n",
    "v1, v2, r = np.array([]), np.array([]), np.array([])\n",
    "score = 0\n",
    "for j in range(5):\n",
    "    x_1 = np.vstack([title_x[:size * j // 5], title_x[size * (j + 1) // 5:]])\n",
    "    x_2 = np.vstack([comment_x[:size * j // 5], comment_x[size * (j + 1) // 5:]])\n",
    "    y_1 = np.append(y[:size * j // 5], y[size * (j + 1) // 5:])\n",
    "    model_1 = CatBoostRegressor(l2_leaf_reg=1.5, silent=True, depth=8).fit(np.array(x_1), np.array(y_1))\n",
    "    model_2 = CatBoostRegressor(l2_leaf_reg=1.5, silent=True, depth=8).fit(np.array(x_2), np.array(y_1))\n",
    "    pred_1 = model_1.predict(np.array(title_x[size * j // 5:size * (j + 1) // 5]))\n",
    "    pred_2 = model_2.predict(np.array(comment_x[size * j // 5:size * (j + 1) // 5]))\n",
    "    v1 = np.append(v1, pred_1)\n",
    "    v2 = np.append(v2, pred_2)\n",
    "    r = np.append(r, y[size * j // 5:size * (j + 1) // 5])"
   ]
  },
  {
   "cell_type": "markdown",
   "id": "22e8a0aa",
   "metadata": {},
   "source": [
    "# R2 score ансамбля:"
   ]
  },
  {
   "cell_type": "code",
   "execution_count": 17,
   "id": "8045f6c0",
   "metadata": {},
   "outputs": [
    {
     "data": {
      "text/plain": [
       "0.5901801785804301"
      ]
     },
     "execution_count": 17,
     "metadata": {},
     "output_type": "execute_result"
    }
   ],
   "source": [
    "cross_val_score(LinearRegression(), np.array([v1, v2, v1 * v2]).transpose(), r, cv=5).mean()"
   ]
  },
  {
   "cell_type": "markdown",
   "id": "257079d6",
   "metadata": {},
   "source": [
    "# Добавим в качестве фичей средний рейтинг отеля, количество отзывов о нём и их дисперсию:"
   ]
  },
  {
   "cell_type": "code",
   "execution_count": 18,
   "id": "3a2c9913",
   "metadata": {},
   "outputs": [],
   "source": [
    "hotel_names = {}\n",
    "for i in zip(data[\"Hotel_name\"], data['Rating']):\n",
    "    if i[0] in hotel_names.keys():\n",
    "        hotel_names[i[0]].append(i[1])\n",
    "    else:\n",
    "        hotel_names[i[0]] = [i[1]]"
   ]
  },
  {
   "cell_type": "code",
   "execution_count": 19,
   "id": "b10e1c39",
   "metadata": {},
   "outputs": [],
   "source": [
    "for i in hotel_names.keys():\n",
    "    hotel_names[i] = np.array(hotel_names[i])\n",
    "    hotel_names[i] = [hotel_names[i].mean(), hotel_names[i].var(), hotel_names[i].shape[0]]"
   ]
  },
  {
   "cell_type": "code",
   "execution_count": 20,
   "id": "7d2c2e8a",
   "metadata": {},
   "outputs": [],
   "source": [
    "means = np.array([hotel_names[i][0] for i in data['Hotel_name']])\n",
    "varses = np.array([hotel_names[i][1] for i in data['Hotel_name']])\n",
    "sizes = np.array([hotel_names[i][2] for i in data['Hotel_name']])"
   ]
  },
  {
   "cell_type": "markdown",
   "id": "a09fb45b",
   "metadata": {},
   "source": [
    "# R2 score итоговой модели:"
   ]
  },
  {
   "cell_type": "code",
   "execution_count": 21,
   "id": "735e8418",
   "metadata": {},
   "outputs": [],
   "source": [
    "model = CatBoostRegressor(l2_leaf_reg=1.5, silent=True, depth=2)"
   ]
  },
  {
   "cell_type": "code",
   "execution_count": 22,
   "id": "e43de575",
   "metadata": {},
   "outputs": [
    {
     "data": {
      "text/plain": [
       "0.6627843416957223"
      ]
     },
     "execution_count": 22,
     "metadata": {},
     "output_type": "execute_result"
    }
   ],
   "source": [
    "cross_val_score(model, np.array([v1, v2, v1 * v2, means, varses, sizes]).transpose(), r, cv=5).mean()"
   ]
  },
  {
   "cell_type": "code",
   "execution_count": 23,
   "id": "ecb0ce63",
   "metadata": {},
   "outputs": [],
   "source": [
    "final_title_model = CatBoostRegressor(l2_leaf_reg=1.5, silent=True, depth=8).fit(np.array(title_x), y)\n",
    "final_comment_model = CatBoostRegressor(l2_leaf_reg=1.5, silent=True, depth=8).fit(np.array(comment_x), y)\n",
    "final_merge_model = CatBoostRegressor(l2_leaf_reg=1.5, silent=True, depth=2).fit(np.array([v1, v2, v1 * v2, means, varses, sizes]).transpose(), r)"
   ]
  },
  {
   "cell_type": "code",
   "execution_count": 24,
   "id": "ba88a615",
   "metadata": {},
   "outputs": [],
   "source": [
    "unknown_hotels_model = CatBoostRegressor(l2_leaf_reg=1.5, silent=True, depth=2).fit(np.array([v1, v2, v1 * v2]).transpose(), r)"
   ]
  },
  {
   "cell_type": "code",
   "execution_count": 25,
   "id": "54c954e1",
   "metadata": {},
   "outputs": [],
   "source": [
    "check = pd.read_csv(\"test.csv\")\n",
    "check = check.fillna(\"\")"
   ]
  },
  {
   "cell_type": "code",
   "execution_count": 26,
   "id": "a872cd46",
   "metadata": {},
   "outputs": [
    {
     "data": {
      "text/html": [
       "<div>\n",
       "<style scoped>\n",
       "    .dataframe tbody tr th:only-of-type {\n",
       "        vertical-align: middle;\n",
       "    }\n",
       "\n",
       "    .dataframe tbody tr th {\n",
       "        vertical-align: top;\n",
       "    }\n",
       "\n",
       "    .dataframe thead th {\n",
       "        text-align: right;\n",
       "    }\n",
       "</style>\n",
       "<table border=\"1\" class=\"dataframe\">\n",
       "  <thead>\n",
       "    <tr style=\"text-align: right;\">\n",
       "      <th></th>\n",
       "      <th>Id</th>\n",
       "      <th>Hotel_name</th>\n",
       "      <th>Review_Title</th>\n",
       "      <th>Review_Text</th>\n",
       "    </tr>\n",
       "  </thead>\n",
       "  <tbody>\n",
       "    <tr>\n",
       "      <th>0</th>\n",
       "      <td>2351</td>\n",
       "      <td>ITC Grand Chola</td>\n",
       "      <td>Mr Neeraj</td>\n",
       "      <td>On the night of my arrival from NY I had a min...</td>\n",
       "    </tr>\n",
       "    <tr>\n",
       "      <th>1</th>\n",
       "      <td>2352</td>\n",
       "      <td>Hotel Pandian</td>\n",
       "      <td></td>\n",
       "      <td>Not so great.  But it is still acceptable. Bit...</td>\n",
       "    </tr>\n",
       "    <tr>\n",
       "      <th>2</th>\n",
       "      <td>2353</td>\n",
       "      <td>Oyo Rooms Guindy Olympia Tech Park</td>\n",
       "      <td>Nice stay for corporate people</td>\n",
       "      <td>Been a good place to stay for people who visit...</td>\n",
       "    </tr>\n",
       "    <tr>\n",
       "      <th>3</th>\n",
       "      <td>2354</td>\n",
       "      <td>OYO Apartments Saidapet</td>\n",
       "      <td>Average hotel</td>\n",
       "      <td>Not worth of the money we paid.worst ac.no wat...</td>\n",
       "    </tr>\n",
       "    <tr>\n",
       "      <th>4</th>\n",
       "      <td>2355</td>\n",
       "      <td>Ramada Chennai Egmore</td>\n",
       "      <td>A good mid range corporate hotel</td>\n",
       "      <td>A well located hotel, with decent sized rooms ...</td>\n",
       "    </tr>\n",
       "    <tr>\n",
       "      <th>...</th>\n",
       "      <td>...</td>\n",
       "      <td>...</td>\n",
       "      <td>...</td>\n",
       "      <td>...</td>\n",
       "    </tr>\n",
       "    <tr>\n",
       "      <th>2347</th>\n",
       "      <td>4698</td>\n",
       "      <td>Lemon Tree Chennai</td>\n",
       "      <td>Average stay</td>\n",
       "      <td>Compared to other lemon tree stay, this was bi...</td>\n",
       "    </tr>\n",
       "    <tr>\n",
       "      <th>2348</th>\n",
       "      <td>4699</td>\n",
       "      <td>Oyo Rooms T Nagar Off Pondy Bazaar</td>\n",
       "      <td>location is not good. rude behavior. staff no ...</td>\n",
       "      <td>unpleasant stay. not easy task to reach. Morni...</td>\n",
       "    </tr>\n",
       "    <tr>\n",
       "      <th>2349</th>\n",
       "      <td>4700</td>\n",
       "      <td>VGP Golden Beach Resort</td>\n",
       "      <td></td>\n",
       "      <td>Quality of service is too bad. We arrived 12.3...</td>\n",
       "    </tr>\n",
       "    <tr>\n",
       "      <th>2350</th>\n",
       "      <td>4701</td>\n",
       "      <td>The Park Chennai</td>\n",
       "      <td>Over rated and overpriced Hotel</td>\n",
       "      <td>I am not sure why someone wants to spend that ...</td>\n",
       "    </tr>\n",
       "    <tr>\n",
       "      <th>2351</th>\n",
       "      <td>4702</td>\n",
       "      <td>Peace Inn</td>\n",
       "      <td>Nice Beach Hotel</td>\n",
       "      <td>I visited Chennai in the summer of 2014. This ...</td>\n",
       "    </tr>\n",
       "  </tbody>\n",
       "</table>\n",
       "<p>2352 rows × 4 columns</p>\n",
       "</div>"
      ],
      "text/plain": [
       "        Id                          Hotel_name  \\\n",
       "0     2351                     ITC Grand Chola   \n",
       "1     2352                       Hotel Pandian   \n",
       "2     2353  Oyo Rooms Guindy Olympia Tech Park   \n",
       "3     2354             OYO Apartments Saidapet   \n",
       "4     2355               Ramada Chennai Egmore   \n",
       "...    ...                                 ...   \n",
       "2347  4698                  Lemon Tree Chennai   \n",
       "2348  4699  Oyo Rooms T Nagar Off Pondy Bazaar   \n",
       "2349  4700             VGP Golden Beach Resort   \n",
       "2350  4701                    The Park Chennai   \n",
       "2351  4702                           Peace Inn   \n",
       "\n",
       "                                           Review_Title  \\\n",
       "0                                             Mr Neeraj   \n",
       "1                                                         \n",
       "2                        Nice stay for corporate people   \n",
       "3                                         Average hotel   \n",
       "4                      A good mid range corporate hotel   \n",
       "...                                                 ...   \n",
       "2347                                       Average stay   \n",
       "2348  location is not good. rude behavior. staff no ...   \n",
       "2349                                                      \n",
       "2350                    Over rated and overpriced Hotel   \n",
       "2351                                   Nice Beach Hotel   \n",
       "\n",
       "                                            Review_Text  \n",
       "0     On the night of my arrival from NY I had a min...  \n",
       "1     Not so great.  But it is still acceptable. Bit...  \n",
       "2     Been a good place to stay for people who visit...  \n",
       "3     Not worth of the money we paid.worst ac.no wat...  \n",
       "4     A well located hotel, with decent sized rooms ...  \n",
       "...                                                 ...  \n",
       "2347  Compared to other lemon tree stay, this was bi...  \n",
       "2348  unpleasant stay. not easy task to reach. Morni...  \n",
       "2349  Quality of service is too bad. We arrived 12.3...  \n",
       "2350  I am not sure why someone wants to spend that ...  \n",
       "2351  I visited Chennai in the summer of 2014. This ...  \n",
       "\n",
       "[2352 rows x 4 columns]"
      ]
     },
     "execution_count": 26,
     "metadata": {},
     "output_type": "execute_result"
    }
   ],
   "source": [
    "check"
   ]
  },
  {
   "cell_type": "code",
   "execution_count": 27,
   "id": "cd2bf462",
   "metadata": {},
   "outputs": [],
   "source": [
    "check_title = text_preprocessing(check['Review_Title'], \"Без фильтрации слов\")\n",
    "idf_vectorizer = TfidfVectorizer().fit(check_title)\n",
    "check_title = idf_vectorizer.transform(check_title).todense()"
   ]
  },
  {
   "cell_type": "code",
   "execution_count": 28,
   "id": "613a17a4",
   "metadata": {},
   "outputs": [],
   "source": [
    "check_comment = text_preprocessing(check['Review_Text'], \"Без редких слов\")\n",
    "idf_vectorizer = TfidfVectorizer().fit(check_comment)\n",
    "check_comment = idf_vectorizer.transform(check_comment).todense()"
   ]
  },
  {
   "cell_type": "code",
   "execution_count": 29,
   "id": "c27c2105",
   "metadata": {},
   "outputs": [],
   "source": [
    "answers = np.array([])\n",
    "\n",
    "v1 = final_title_model.predict(np.array(check_title))\n",
    "v2 = final_comment_model.predict(np.array(check_comment))\n",
    "for i in range(len(check)):\n",
    "    if check['Hotel_name'].iloc[i] in hotel_names.keys():\n",
    "        answers = np.append(answers, final_merge_model.predict(np.array([v1[i], v2[i], v1[i] * v2[i], \n",
    "                                                                         hotel_names[check['Hotel_name'].iloc[i]][0],\n",
    "                                                                         hotel_names[check['Hotel_name'].iloc[i]][1],\n",
    "                                                                         hotel_names[check['Hotel_name'].iloc[i]][2]]).transpose()))\n",
    "    else:\n",
    "        answers = np.append(answers, unknown_hotels_model.predict(np.array([v1[i], v2[i], v1[i] * v2[i]]).transpose()))"
   ]
  },
  {
   "cell_type": "code",
   "execution_count": 30,
   "id": "f50d6e78",
   "metadata": {},
   "outputs": [
    {
     "data": {
      "text/plain": [
       "array([84.83251044, 72.67366412, 68.19250077, ..., 66.4722571 ,\n",
       "       67.95104594, 66.37720419])"
      ]
     },
     "execution_count": 30,
     "metadata": {},
     "output_type": "execute_result"
    }
   ],
   "source": [
    "answers"
   ]
  },
  {
   "cell_type": "code",
   "execution_count": 31,
   "id": "0c6f038b",
   "metadata": {},
   "outputs": [],
   "source": [
    "answers = pd.DataFrame({\"ID\": check[\"Id\"], \"Rating\": answers})\n",
    "answers.to_csv('submission.csv', index=False)"
   ]
  },
  {
   "cell_type": "code",
   "execution_count": null,
   "id": "ebc271a4",
   "metadata": {},
   "outputs": [],
   "source": []
  }
 ],
 "metadata": {
  "kernelspec": {
   "display_name": "Python 3",
   "language": "python",
   "name": "python3"
  },
  "language_info": {
   "codemirror_mode": {
    "name": "ipython",
    "version": 3
   },
   "file_extension": ".py",
   "mimetype": "text/x-python",
   "name": "python",
   "nbconvert_exporter": "python",
   "pygments_lexer": "ipython3",
   "version": "3.8.8"
  }
 },
 "nbformat": 4,
 "nbformat_minor": 5
}
